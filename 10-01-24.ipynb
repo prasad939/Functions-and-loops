{
 "cells": [
  {
   "cell_type": "code",
   "execution_count": 1,
   "id": "d68fbf26-5644-4a43-8172-57de64b34f95",
   "metadata": {},
   "outputs": [],
   "source": [
    "# FOR LOOP"
   ]
  },
  {
   "cell_type": "code",
   "execution_count": 2,
   "id": "b91595ce-c390-49c8-a8c3-d3f7acd4a2b4",
   "metadata": {},
   "outputs": [
    {
     "name": "stdout",
     "output_type": "stream",
     "text": [
      "1\n",
      "2\n",
      "3\n",
      "4\n",
      "5\n",
      "6\n",
      "7\n",
      "8\n",
      "9\n",
      "10\n"
     ]
    }
   ],
   "source": [
    "# 1. Print numbers from 1 to 10 using a for loop:\n",
    "for i in range(1, 11):\n",
    "    print(i)"
   ]
  },
  {
   "cell_type": "code",
   "execution_count": 3,
   "id": "4ac0c954-f463-4214-bc0b-a989dff9d1fb",
   "metadata": {},
   "outputs": [],
   "source": [
    "#2. Difference between a for loop and a while loop:\n",
    "# for loop: Used when the number of iterations is known. It iterates over a sequence (e.g., list, range, string).\n",
    "\n",
    "# while loop: Used when the number of iterations is unknown. It continues until a condition is met."
   ]
  },
  {
   "cell_type": "code",
   "execution_count": 4,
   "id": "d62ec183-9dfb-424a-a3fd-7f7b750b0735",
   "metadata": {},
   "outputs": [
    {
     "name": "stdout",
     "output_type": "stream",
     "text": [
      "Sum: 5050\n"
     ]
    }
   ],
   "source": [
    "# 3. Calculate the sum of all numbers from 1 to 100 using a for loop:\n",
    "total = 0\n",
    "for i in range(1, 101):\n",
    "    total += i\n",
    "print(\"Sum:\", total)"
   ]
  },
  {
   "cell_type": "code",
   "execution_count": 5,
   "id": "07417142-d916-462a-9eac-f52d4b9160f8",
   "metadata": {},
   "outputs": [
    {
     "name": "stdout",
     "output_type": "stream",
     "text": [
      "1\n",
      "2\n",
      "3\n",
      "4\n",
      "5\n"
     ]
    }
   ],
   "source": [
    "#4. Iterate through a list using a for loop:\n",
    "my_list = [1, 2, 3, 4, 5]\n",
    "for item in my_list:\n",
    "    print(item)\n",
    "    "
   ]
  },
  {
   "cell_type": "code",
   "execution_count": 6,
   "id": "2d6571c5-632f-4386-9bf0-060eb6e10352",
   "metadata": {},
   "outputs": [
    {
     "name": "stdout",
     "output_type": "stream",
     "text": [
      "Product: 120\n"
     ]
    }
   ],
   "source": [
    "#5. Find the product of all elements in a list using a for loop:\n",
    "my_list = [1, 2, 3, 4, 5]\n",
    "product = 1\n",
    "for item in my_list:\n",
    "    product *= item\n",
    "print(\"Product:\", product)"
   ]
  },
  {
   "cell_type": "code",
   "execution_count": 7,
   "id": "b616b764-a8ae-46a1-be1b-1ea59c577d76",
   "metadata": {},
   "outputs": [
    {
     "name": "stdout",
     "output_type": "stream",
     "text": [
      "2\n",
      "4\n",
      "6\n",
      "8\n",
      "10\n",
      "12\n",
      "14\n",
      "16\n",
      "18\n",
      "20\n"
     ]
    }
   ],
   "source": [
    "#6. Print all even numbers from 1 to 20 using a for loop:\n",
    "for i in range(1, 21):\n",
    "    if i % 2 == 0:\n",
    "        print(i)"
   ]
  },
  {
   "cell_type": "code",
   "execution_count": 8,
   "id": "f55f0cd4-51a9-43cd-841b-947720e8ea47",
   "metadata": {},
   "outputs": [
    {
     "name": "stdout",
     "output_type": "stream",
     "text": [
      "Factorial: 120\n"
     ]
    }
   ],
   "source": [
    "#7. Calculate the factorial of a number using a for loop:\n",
    "num = 5\n",
    "factorial = 1\n",
    "for i in range(1, num + 1):\n",
    "    factorial *= i\n",
    "print(\"Factorial:\", factorial)"
   ]
  },
  {
   "cell_type": "code",
   "execution_count": 9,
   "id": "7ca5f462-37f8-42ed-84ac-ddbdb743408d",
   "metadata": {},
   "outputs": [
    {
     "name": "stdout",
     "output_type": "stream",
     "text": [
      "H\n",
      "e\n",
      "l\n",
      "l\n",
      "o\n"
     ]
    }
   ],
   "source": [
    "#8. Iterate through the characters of a string using a for loop\n",
    "my_string = \"Hello\"\n",
    "for char in my_string:\n",
    "    print(char)"
   ]
  },
  {
   "cell_type": "code",
   "execution_count": 10,
   "id": "1e469761-aa1f-4c30-821d-ff72fda14167",
   "metadata": {},
   "outputs": [
    {
     "name": "stdout",
     "output_type": "stream",
     "text": [
      "Largest number: 99\n"
     ]
    }
   ],
   "source": [
    "#9. Find the largest number in a list using a for loop:\n",
    "my_list = [10, 20, 4, 45, 99]\n",
    "largest = my_list[0]\n",
    "for num in my_list:\n",
    "    if num > largest:\n",
    "        largest = num\n",
    "print(\"Largest number:\", largest)"
   ]
  },
  {
   "cell_type": "code",
   "execution_count": 11,
   "id": "400c19ae-0cd5-4902-ab86-2300e4cb7bd6",
   "metadata": {},
   "outputs": [
    {
     "name": "stdout",
     "output_type": "stream",
     "text": [
      "0 1 1 2 3 5 8 13 21 34 "
     ]
    }
   ],
   "source": [
    "#10. Print the Fibonacci sequence up to a specified limit using a for loop:\n",
    "limit = 50\n",
    "a, b = 0, 1\n",
    "while a <= limit:\n",
    "    print(a, end=\" \")\n",
    "    a, b = b, a + b"
   ]
  },
  {
   "cell_type": "code",
   "execution_count": 12,
   "id": "f6d43bd5-13ee-4c75-9eb2-65ba99c2930b",
   "metadata": {},
   "outputs": [
    {
     "name": "stdout",
     "output_type": "stream",
     "text": [
      "Number of vowels: 3\n"
     ]
    }
   ],
   "source": [
    "#11. Count the number of vowels in a given string using a for loop\n",
    "my_string = \"Hello World\"\n",
    "vowels = \"aeiouAEIOU\"\n",
    "count = 0\n",
    "for char in my_string:\n",
    "    if char in vowels:\n",
    "        count += 1\n",
    "print(\"Number of vowels:\", count)"
   ]
  },
  {
   "cell_type": "code",
   "execution_count": 13,
   "id": "68bd416c-0b9e-4d64-9559-c873b546c526",
   "metadata": {},
   "outputs": [
    {
     "name": "stdout",
     "output_type": "stream",
     "text": [
      "Reversed list: [5, 4, 3, 2, 1]\n"
     ]
    }
   ],
   "source": [
    "#12. Generate a multiplication table for a given number using a for loop:\n",
    "my_list = [1, 2, 3, 4, 5]\n",
    "reversed_list = []\n",
    "for i in range(len(my_list) - 1, -1, -1):\n",
    "    reversed_list.append(my_list[i])\n",
    "print(\"Reversed list:\", reversed_list)"
   ]
  },
  {
   "cell_type": "code",
   "execution_count": 14,
   "id": "13970ed6-4640-46eb-8986-08f22f111e10",
   "metadata": {},
   "outputs": [
    {
     "name": "stdout",
     "output_type": "stream",
     "text": [
      "Reversed list: [5, 4, 3, 2, 1]\n"
     ]
    }
   ],
   "source": [
    "#13. Reverse a list using a for loop:\n",
    "my_list = [1, 2, 3, 4, 5]\n",
    "reversed_list = []\n",
    "for i in range(len(my_list) - 1, -1, -1):\n",
    "    reversed_list.append(my_list[i])\n",
    "print(\"Reversed list:\", reversed_list)"
   ]
  },
  {
   "cell_type": "code",
   "execution_count": 15,
   "id": "80e0c7c7-50f2-47aa-903f-f3b1d9afd8c2",
   "metadata": {},
   "outputs": [
    {
     "name": "stdout",
     "output_type": "stream",
     "text": [
      "Common elements: [4, 5]\n"
     ]
    }
   ],
   "source": [
    "#14. Find the common elements between two lists using a for loop:\n",
    "list1 = [1, 2, 3, 4, 5]\n",
    "list2 = [4, 5, 6, 7, 8]\n",
    "common = []\n",
    "for item in list1:\n",
    "    if item in list2:\n",
    "        common.append(item)\n",
    "print(\"Common elements:\", common)"
   ]
  },
  {
   "cell_type": "code",
   "execution_count": 16,
   "id": "a87ebe1e-f805-4213-959c-1dfe19bee2aa",
   "metadata": {},
   "outputs": [
    {
     "name": "stdout",
     "output_type": "stream",
     "text": [
      "Common elements: [4, 5]\n"
     ]
    }
   ],
   "source": [
    "#14. Find the common elements between two lists using a for loop:\n",
    "list1 = [1, 2, 3, 4, 5]\n",
    "list2 = [4, 5, 6, 7, 8]\n",
    "common = []\n",
    "for item in list1:\n",
    "    if item in list2:\n",
    "        common.append(item)\n",
    "print(\"Common elements:\", common)"
   ]
  },
  {
   "cell_type": "code",
   "execution_count": 17,
   "id": "2fe4b56c-fa99-444b-a9bb-2c35b32edd7b",
   "metadata": {},
   "outputs": [
    {
     "name": "stdout",
     "output_type": "stream",
     "text": [
      "Key: a, Value: 1\n",
      "Key: b, Value: 2\n",
      "Key: c, Value: 3\n"
     ]
    }
   ],
   "source": [
    "#15. Iterate through the keys and values of a dictionary using a for loop:\n",
    "my_dict = {\"a\": 1, \"b\": 2, \"c\": 3}\n",
    "for key, value in my_dict.items():\n",
    "    print(f\"Key: {key}, Value: {value}\")"
   ]
  },
  {
   "cell_type": "code",
   "execution_count": 18,
   "id": "3f0ab48b-75c7-4bce-bf91-be22b03edba4",
   "metadata": {},
   "outputs": [
    {
     "name": "stdout",
     "output_type": "stream",
     "text": [
      "GCD: 12\n"
     ]
    }
   ],
   "source": [
    "#16. Find the GCD of two numbers using a for loop:\n",
    "num1 = 60\n",
    "num2 = 48\n",
    "gcd = 1\n",
    "for i in range(1, min(num1, num2) + 1):\n",
    "    if num1 % i == 0 and num2 % i == 0:\n",
    "        gcd = i\n",
    "print(\"GCD:\", gcd)"
   ]
  },
  {
   "cell_type": "code",
   "execution_count": 19,
   "id": "f4290acb-b108-41ea-bed6-a4d14fa9b67b",
   "metadata": {},
   "outputs": [
    {
     "name": "stdout",
     "output_type": "stream",
     "text": [
      "Is palindrome: True\n"
     ]
    }
   ],
   "source": [
    "#17. Check if a string is a palindrome using a for loop:\n",
    "my_string = \"madam\"\n",
    "is_palindrome = True\n",
    "for i in range(len(my_string) // 2):\n",
    "    if my_string[i] != my_string[-(i + 1)]:\n",
    "        is_palindrome = False\n",
    "        break\n",
    "print(\"Is palindrome:\", is_palindrome)"
   ]
  },
  {
   "cell_type": "code",
   "execution_count": 20,
   "id": "debcccc4-27c7-4eb3-b173-038a09deaa23",
   "metadata": {},
   "outputs": [
    {
     "name": "stdout",
     "output_type": "stream",
     "text": [
      "List without duplicates: [1, 2, 3, 4, 5]\n"
     ]
    }
   ],
   "source": [
    "#18. Remove duplicates from a list using a for loop:\n",
    "my_list = [1, 2, 2, 3, 4, 4, 5]\n",
    "unique_list = []\n",
    "for item in my_list:\n",
    "    if item not in unique_list:\n",
    "        unique_list.append(item)\n",
    "print(\"List without duplicates:\", unique_list)"
   ]
  },
  {
   "cell_type": "code",
   "execution_count": 21,
   "id": "1fb6d4a8-3423-400b-b170-374cbe6b5a74",
   "metadata": {},
   "outputs": [
    {
     "name": "stdout",
     "output_type": "stream",
     "text": [
      "Number of words: 5\n"
     ]
    }
   ],
   "source": [
    "#19. Count the number of words in a sentence using a for loop\n",
    "sentence = \"Hello world, how are you?\"\n",
    "words = sentence.split()\n",
    "count = 0\n",
    "for word in words:\n",
    "    count += 1\n",
    "print(\"Number of words:\", count)"
   ]
  },
  {
   "cell_type": "code",
   "execution_count": 22,
   "id": "595a5958-ff52-4a41-b80f-13c6bed9c050",
   "metadata": {},
   "outputs": [
    {
     "name": "stdout",
     "output_type": "stream",
     "text": [
      "Sum of odd numbers: 625\n"
     ]
    }
   ],
   "source": [
    "#20. Find the sum of all odd numbers from 1 to 50 using a for loop:\n",
    "total = 0\n",
    "for i in range(1, 51):\n",
    "    if i % 2 != 0:\n",
    "        total += i\n",
    "print(\"Sum of odd numbers:\", total)"
   ]
  },
  {
   "cell_type": "code",
   "execution_count": 23,
   "id": "ce57ec07-b42a-4797-b6f5-7b1024e23f63",
   "metadata": {},
   "outputs": [
    {
     "name": "stdout",
     "output_type": "stream",
     "text": [
      "Is leap year: True\n"
     ]
    }
   ],
   "source": [
    "#21. Check if a given year is a leap year using a for loop:\n",
    "year = 2024\n",
    "is_leap = False\n",
    "if (year % 4 == 0 and year % 100 != 0) or (year % 400 == 0):\n",
    "    is_leap = True\n",
    "print(\"Is leap year:\", is_leap)"
   ]
  },
  {
   "cell_type": "code",
   "execution_count": 24,
   "id": "abdbbdf1-3e62-4964-800a-5513fde3b079",
   "metadata": {},
   "outputs": [
    {
     "name": "stdout",
     "output_type": "stream",
     "text": [
      "Square root: 5.0\n"
     ]
    }
   ],
   "source": [
    "#22. Calculate the square root of a number using a for loop:\n",
    "num = 25\n",
    "sqrt = num ** 0.5\n",
    "print(\"Square root:\", sqrt)"
   ]
  },
  {
   "cell_type": "code",
   "execution_count": 25,
   "id": "5935ae33-2bac-41c8-89e1-e2ca318d6eff",
   "metadata": {},
   "outputs": [
    {
     "name": "stdout",
     "output_type": "stream",
     "text": [
      "LCM: 36\n"
     ]
    }
   ],
   "source": [
    "#23. Find the LCM of two numbers using a for loop:\n",
    "num1 = 12\n",
    "num2 = 18\n",
    "max_num = max(num1, num2)\n",
    "while True:\n",
    "    if max_num % num1 == 0 and max_num % num2 == 0:\n",
    "        lcm = max_num\n",
    "        break\n",
    "    max_num += 1\n",
    "print(\"LCM:\", lcm)"
   ]
  },
  {
   "cell_type": "code",
   "execution_count": 26,
   "id": "883348f2-42f8-4ffd-accb-3caa804eeffd",
   "metadata": {},
   "outputs": [],
   "source": [
    "## If else :"
   ]
  },
  {
   "cell_type": "code",
   "execution_count": null,
   "id": "32c2a57e-14ba-4384-b4d4-14c6409b89ac",
   "metadata": {},
   "outputs": [],
   "source": [
    "#1. Check if a number is positive, negative, or zero using an if-else statement:\n",
    "num = float(input(\"Enter a number: \"))\n",
    "if num > 0:\n",
    "    print(\"Positive\")\n",
    "elif num < 0:\n",
    "    print(\"Negative\")\n",
    "else:\n",
    "    print(\"Zero\")\n"
   ]
  },
  {
   "cell_type": "code",
   "execution_count": null,
   "id": "d621257e-2f6c-43af-9296-bd37ce342957",
   "metadata": {},
   "outputs": [],
   "source": [
    "#2. Check if a number is even or odd using an if-else statement:\n",
    "num = int(input(\"Enter a number: \"))\n",
    "if num % 2 == 0:\n",
    "    print(\"Even\")\n",
    "else:\n",
    "    print(\"Odd\")"
   ]
  },
  {
   "cell_type": "code",
   "execution_count": null,
   "id": "7ab87bfd-57bb-424a-a8f2-41f75021757f",
   "metadata": {},
   "outputs": [],
   "source": [
    "#3. Use nested if-else statements in Python:\n",
    "num = int(input(\"Enter a number: \"))\n",
    "if num > 0:\n",
    "    if num % 2 == 0:\n",
    "        print(\"Positive and Even\")\n",
    "    else:\n",
    "        print(\"Positive and Odd\")\n",
    "elif num < 0:\n",
    "    print(\"Negative\")\n",
    "else:\n",
    "    print(\"Zero\")"
   ]
  },
  {
   "cell_type": "code",
   "execution_count": null,
   "id": "d62984ad-a719-4fe7-ab01-d4284ab301ce",
   "metadata": {},
   "outputs": [],
   "source": [
    "#4. Determine the largest of three numbers using if-else:\n",
    "a = float(input(\"Enter first number: \"))\n",
    "b = float(input(\"Enter second number: \"))\n",
    "c = float(input(\"Enter third number: \"))\n",
    "if a >= b and a >= c:\n",
    "    print(\"Largest:\", a)\n",
    "elif b >= a and b >= c:\n",
    "    print(\"Largest:\", b)\n",
    "else:\n",
    "    print(\"Largest:\", c)"
   ]
  },
  {
   "cell_type": "code",
   "execution_count": null,
   "id": "83955af7-8757-4d35-b3e9-5de0da6806a9",
   "metadata": {},
   "outputs": [],
   "source": [
    "#5. Calculate the absolute value of a number using if-else:\n",
    "num = float(input(\"Enter a number: \"))\n",
    "if num < 0:\n",
    "    abs_value = -num\n",
    "else:\n",
    "    abs_value = num\n",
    "print(\"Absolute value:\", abs_value)"
   ]
  },
  {
   "cell_type": "code",
   "execution_count": null,
   "id": "c28f46f4-c1f0-416e-a661-163bd8b7f605",
   "metadata": {},
   "outputs": [],
   "source": [
    "#6. Check if a given character is a vowel or consonant using if-else:\n",
    "char = input(\"Enter a character: \").lower()\n",
    "if char in \"aeiou\":\n",
    "    print(\"Vowel\")\n",
    "else:\n",
    "    print(\"Consonant\")"
   ]
  },
  {
   "cell_type": "code",
   "execution_count": null,
   "id": "26c83bec-2be6-4e32-aa68-320b1bf5393f",
   "metadata": {},
   "outputs": [],
   "source": [
    "#7. Determine if a user is eligible to vote based on their age using if-else:\n",
    "age = int(input(\"Enter your age: \"))\n",
    "if age >= 18:\n",
    "    print(\"Eligible to vote\")\n",
    "else:\n",
    "    print(\"Not eligible to vote\")"
   ]
  },
  {
   "cell_type": "code",
   "execution_count": null,
   "id": "d0f1dee5-d07e-468b-aaf2-9dda5c5276a7",
   "metadata": {},
   "outputs": [],
   "source": [
    "#8. Calculate the discount amount based on the purchase amount using if-else:\n",
    "purchase_amount = float(input(\"Enter purchase amount: \"))\n",
    "if purchase_amount > 1000:\n",
    "    discount = 0.1 * purchase_amount\n",
    "elif purchase_amount > 500:\n",
    "    discount = 0.05 * purchase_amount\n",
    "else:\n",
    "    discount = 0\n",
    "print(\"Discount:\", discount)"
   ]
  },
  {
   "cell_type": "code",
   "execution_count": null,
   "id": "723e8afb-2dff-4714-bda7-57698f51a0fd",
   "metadata": {},
   "outputs": [],
   "source": [
    "#9. Check if a number is within a specified range using if-else:\n",
    "num = float(input(\"Enter a number: \"))\n",
    "if 1 <= num <= 100:\n",
    "    print(\"Within range\")\n",
    "else:\n",
    "    print(\"Out of range\")"
   ]
  },
  {
   "cell_type": "code",
   "execution_count": null,
   "id": "5be918ec-ca3d-4bd6-9950-2c4bf37a6137",
   "metadata": {},
   "outputs": [],
   "source": [
    "#10. Determine the grade of a student based on their score using if-else:\n",
    "score = float(input(\"Enter your score: \"))\n",
    "if score >= 90:\n",
    "    print(\"Grade: A\")\n",
    "elif score >= 80:\n",
    "    print(\"Grade: B\")\n",
    "elif score >= 70:\n",
    "    print(\"Grade: C\")\n",
    "elif score >= 60:\n",
    "    print(\"Grade: D\")\n",
    "else:\n",
    "    print(\"Grade: F\")"
   ]
  },
  {
   "cell_type": "code",
   "execution_count": null,
   "id": "7ac88c6e-9185-4e11-b601-608a81f30ed1",
   "metadata": {},
   "outputs": [],
   "source": [
    "#11. Check if a string is empty or not using if-else:\n",
    "my_string = input(\"Enter a string: \")\n",
    "if my_string:\n",
    "    print(\"String is not empty\")\n",
    "else:\n",
    "    print(\"String is empty\")"
   ]
  },
  {
   "cell_type": "code",
   "execution_count": null,
   "id": "a50fb491-02ed-4939-be12-5e0156e95d99",
   "metadata": {},
   "outputs": [],
   "source": [
    "#12. Identify the type of a triangle using if-else:\n",
    "a = float(input(\"Enter side 1: \"))\n",
    "b = float(input(\"Enter side 2: \"))\n",
    "c = float(input(\"Enter side 3: \"))\n",
    "if a == b == c:\n",
    "    print(\"Equilateral triangle\")\n",
    "elif a == b or b == c or a == c:\n",
    "    print(\"Isosceles triangle\")\n",
    "else:\n",
    "    print(\"Scalene triangle\")"
   ]
  },
  {
   "cell_type": "code",
   "execution_count": null,
   "id": "bc7e481f-4237-4a67-82b2-91f71ca635fc",
   "metadata": {},
   "outputs": [],
   "source": [
    "#13. Determine the day of the week based on a user-provided number using if-else:\n",
    "day = int(input(\"Enter a number (1-7): \"))\n",
    "if day == 1:\n",
    "    print(\"Monday\")\n",
    "elif day == 2:\n",
    "    print(\"Tuesday\")\n",
    "elif day == 3:\n",
    "    print(\"Wednesday\")\n",
    "elif day == 4:\n",
    "    print(\"Thursday\")\n",
    "elif day == 5:\n",
    "    print(\"Friday\")\n",
    "elif day == 6:\n",
    "    print(\"Saturday\")\n",
    "elif day == 7:\n",
    "    print(\"Sunday\")\n",
    "else:\n",
    "    print(\"Invalid input\")"
   ]
  },
  {
   "cell_type": "code",
   "execution_count": null,
   "id": "ec49ace2-1c24-47a0-aa62-5a8a2b095c8c",
   "metadata": {},
   "outputs": [],
   "source": [
    "#14. Check if a given year is a leap year using if-else and a function:\n",
    "def is_leap_year(year):\n",
    "    if (year % 4 == 0 and year % 100 != 0) or (year % 400 == 0):\n",
    "        return True\n",
    "    else:\n",
    "        return False\n",
    "\n",
    "year = int(input(\"Enter a year: \"))\n",
    "if is_leap_year(year):\n",
    "    print(\"Leap year\")\n",
    "else:\n",
    "    print(\"Not a leap year\")"
   ]
  },
  {
   "cell_type": "code",
   "execution_count": null,
   "id": "ecb5f8f1-4dbf-4404-9f58-ea57605338ab",
   "metadata": {},
   "outputs": [],
   "source": [
    "#15. Use the assert statement in Python to add debugging checks within if-else blocks:\n",
    "x = 10\n",
    "assert x > 0, \"x should be positive\"\n",
    "print(\"x is positive\")"
   ]
  },
  {
   "cell_type": "code",
   "execution_count": null,
   "id": "4ab631ed-0b0d-42e5-a16e-9c8511f736b9",
   "metadata": {},
   "outputs": [],
   "source": [
    "#16. Determine the eligibility of a person for a senior citizen discount based on age using if-else:\n",
    "age = int(input(\"Enter your age: \"))\n",
    "if age >= 60:\n",
    "    print(\"Eligible for senior citizen discount\")\n",
    "else:\n",
    "    print(\"Not eligible for senior citizen discount\")"
   ]
  },
  {
   "cell_type": "code",
   "execution_count": null,
   "id": "665265e4-0407-4cdd-a72c-861da2dda28e",
   "metadata": {},
   "outputs": [],
   "source": [
    "#17. Categorize a given character as uppercase, lowercase, or neither using if-else:\n",
    "char = input(\"Enter a character: \")\n",
    "if char.isupper():\n",
    "    print(\"Uppercase\")\n",
    "elif char.islower():\n",
    "    print(\"Lowercase\")\n",
    "else:\n",
    "    print(\"Neither\")"
   ]
  },
  {
   "cell_type": "code",
   "execution_count": null,
   "id": "2c7aa8cb-b52f-4319-af6e-20683d58db12",
   "metadata": {},
   "outputs": [],
   "source": [
    "#18. Determine the roots of a quadratic equation using if-else:\n",
    "import math\n",
    "\n",
    "a = float(input(\"Enter coefficient a: \"))\n",
    "b = float(input(\"Enter coefficient b: \"))\n",
    "c = float(input(\"Enter coefficient c: \"))\n",
    "\n",
    "discriminant = b**2 - 4*a*c\n",
    "\n",
    "if discriminant > 0:\n",
    "    root1 = (-b + math.sqrt(discriminant)) / (2*a)\n",
    "    root2 = (-b - math.sqrt(discriminant)) / (2*a)\n",
    "    print(\"Two distinct real roots:\", root1, root2)\n",
    "elif discriminant == 0:\n",
    "    root = -b / (2*a)\n",
    "    print(\"One real root:\", root)\n",
    "else:\n",
    "    print(\"No real roots\")"
   ]
  },
  {
   "cell_type": "code",
   "execution_count": null,
   "id": "086f240a-31d0-4bc4-897b-2416137de75c",
   "metadata": {},
   "outputs": [],
   "source": [
    "#19. Check if a given year is a century year or not using if-else:\n",
    "year = int(input(\"Enter a year: \"))\n",
    "if year % 100 == 0:\n",
    "    print(\"Century year\")\n",
    "else:\n",
    "    print(\"Not a century year\")"
   ]
  },
  {
   "cell_type": "code",
   "execution_count": null,
   "id": "ad75e894-f714-45ce-a78d-0d5ff1f6f022",
   "metadata": {},
   "outputs": [],
   "source": [
    "#20. Determine if a given number is a perfect square using if-else:\n",
    "import math\n",
    "\n",
    "num = int(input(\"Enter a number: \"))\n",
    "sqrt = math.isqrt(num)\n",
    "if sqrt * sqrt == num:\n",
    "    print(\"Perfect square\")\n",
    "else:\n",
    "    print(\"Not a perfect square\")"
   ]
  },
  {
   "cell_type": "code",
   "execution_count": null,
   "id": "4031a3f4-1717-4d49-b69c-7ba2e4c9d2d6",
   "metadata": {},
   "outputs": [],
   "source": [
    "#21. Explain the purpose of the continue and break statements within if-else loops:\n",
    "# continue: Skips the current iteration and moves to the next iteration of the loop.\n",
    "\n",
    "# break: Exits the loop entirely."
   ]
  },
  {
   "cell_type": "code",
   "execution_count": null,
   "id": "c4e59ee0-0aa6-4aa2-8866-3412ef298846",
   "metadata": {},
   "outputs": [],
   "source": [
    "#22. Calculate the BMI (Body Mass Index) of a person using if-else:\n",
    "weight = float(input(\"Enter weight (kg): \"))\n",
    "height = float(input(\"Enter height (m): \"))\n",
    "bmi = weight / (height ** 2)\n",
    "\n",
    "if bmi < 18.5:\n",
    "    print(\"Underweight\")\n",
    "elif 18.5 <= bmi < 25:\n",
    "    print(\"Normal weight\")\n",
    "elif 25 <= bmi < 30:\n",
    "    print(\"Overweight\")\n",
    "else:\n",
    "    print(\"Obese\")"
   ]
  },
  {
   "cell_type": "code",
   "execution_count": null,
   "id": "6ffa2d4d-96d9-4b64-9ee9-14ae5831b6c8",
   "metadata": {},
   "outputs": [],
   "source": [
    "#23. Use the filter() function with if-else statements to filter elements from a list:\n",
    "numbers = [1, 2, 3, 4, 5, 6, 7, 8, 9, 10]\n",
    "filtered = list(filter(lambda x: x % 2 == 0, numbers))\n",
    "print(\"Even numbers:\", filtered)"
   ]
  },
  {
   "cell_type": "code",
   "execution_count": null,
   "id": "d1ea00ff-bcd4-405c-b662-d06bab19d538",
   "metadata": {},
   "outputs": [],
   "source": [
    "#24. Determine if a given number is prime or not using if-else:\n",
    "num = int(input(\"Enter a number: \"))\n",
    "if num > 1:\n",
    "    for i in range(2, int(num**0.5) + 1):\n",
    "        if num % i == 0:\n",
    "            print(\"Not prime\")\n",
    "            break\n",
    "    else:\n",
    "        print(\"Prime\")\n",
    "else:\n",
    "    print(\"Not prime\")"
   ]
  },
  {
   "cell_type": "code",
   "execution_count": null,
   "id": "3b43c5f1-0d53-4ce9-bca9-b56baabc3f30",
   "metadata": {},
   "outputs": [],
   "source": [
    "### MAP : ."
   ]
  },
  {
   "cell_type": "code",
   "execution_count": null,
   "id": "62f223f8-8d13-4e13-a9c1-3bf7e67eb60a",
   "metadata": {},
   "outputs": [],
   "source": [
    "#1. Purpose of the map() function in Python:\n",
    "#The map() function is used to apply a function to each element of an iterable (e.g., list, tuple) and return an iterator that yields the results. It is a functional programming tool that avoids the need for explicit loops.\n",
    "# Define a function to square a number\n",
    "def square(x):\n",
    "    return x ** 2\n",
    "\n",
    "# Apply the function to each element of a list\n",
    "numbers = [1, 2, 3, 4, 5]\n",
    "squared_numbers = map(square, numbers)\n",
    "\n",
    "# Convert the result to a list\n",
    "print(list(squared_numbers))  # Output: [1, 4, 9, 16, 25]"
   ]
  },
  {
   "cell_type": "code",
   "execution_count": null,
   "id": "e5514c53-8286-4eab-8350-7533a5b98fa6",
   "metadata": {},
   "outputs": [],
   "source": [
    "#2. Square each element of a list using map():\n",
    "numbers = [1, 2, 3, 4, 5]\n",
    "squared_numbers = map(lambda x: x ** 2, numbers)\n",
    "print(list(squared_numbers))  # Output: [1, 4, 9, 16, 25]"
   ]
  },
  {
   "cell_type": "code",
   "execution_count": null,
   "id": "f8db6ed4-94e8-4e7d-afe3-7be232699487",
   "metadata": {},
   "outputs": [],
   "source": [
    "#3. Difference between map() and list comprehension:\n",
    "#map():\n",
    "\n",
    "#Returns an iterator.\n",
    "#Requires a function to be applied.\n",
    "#More functional programming style.\n",
    "\n",
    "#List comprehension:\n",
    "\n",
    "#Returns a list directly.\n",
    "#More Pythonic and often more readable for simple transformations.\n",
    "#Can include conditions and nested loops.\n",
    "\n",
    "#When to choose one over the other:\n",
    "#Use map() when:\n",
    "\n",
    "#You already have a function defined.\n",
    "#You want to work with iterators for memory efficiency.\n",
    "\n",
    "#Use list comprehension when:\n",
    "\n",
    "#The transformation is simple and doesn’t require a separate function.\n",
    "#You need a list immediately.\n",
    "# Using map()\n",
    "numbers = [1, 2, 3, 4, 5]\n",
    "squared_map = map(lambda x: x ** 2, numbers)\n",
    "\n",
    "# Using list comprehension\n",
    "squared_list = [x ** 2 for x in numbers]\n",
    "\n",
    "print(list(squared_map))  # Output: [1, 4, 9, 16, 25]\n",
    "print(squared_list)       # Output: [1, 4, 9, 16, 25]"
   ]
  },
  {
   "cell_type": "code",
   "execution_count": null,
   "id": "9258d673-3c01-4c41-abe6-036bc9f6684d",
   "metadata": {},
   "outputs": [],
   "source": [
    "#4. Convert a list of names to uppercase using map():\n",
    "names = [\"alice\", \"bob\", \"charlie\"]\n",
    "uppercase_names = map(str.upper, names)\n",
    "print(list(uppercase_names))  # Output: ['ALICE', 'BOB', 'CHARLIE']"
   ]
  },
  {
   "cell_type": "code",
   "execution_count": null,
   "id": "ef45ed4a-b90c-4542-ae59-857ea41dd616",
   "metadata": {},
   "outputs": [],
   "source": [
    "#5. Calculate the length of each word in a list using map():\n",
    "words = [\"apple\", \"banana\", \"cherry\"]\n",
    "word_lengths = map(len, words)\n",
    "print(list(word_lengths))  # Output: [5, 6, 6]"
   ]
  },
  {
   "cell_type": "code",
   "execution_count": null,
   "id": "e9b33d99-3dd7-4a21-8059-ca1925edcb5e",
   "metadata": {},
   "outputs": [],
   "source": [
    "#6. Apply a custom function to elements of multiple lists using map():\n",
    "#You can use map() with multiple iterables to apply a function to corresponding elements.\n",
    "# Define a function to add corresponding elements\n",
    "def add(a, b):\n",
    "    return a + b\n",
    "\n",
    "list1 = [1, 2, 3]\n",
    "list2 = [4, 5, 6]\n",
    "result = map(add, list1, list2)\n",
    "print(list(result))  # Output: [5, 7, 9]"
   ]
  },
  {
   "cell_type": "code",
   "execution_count": null,
   "id": "cd3bf4e9-ef3a-4784-9fe5-fe901d09b068",
   "metadata": {},
   "outputs": [],
   "source": [
    "#7. Convert temperatures from Celsius to Fahrenheit using map():\n",
    "# Conversion formula: F = (C * 9/5) + 32\n",
    "celsius_temps = [0, 10, 20, 30, 40]\n",
    "fahrenheit_temps = map(lambda c: (c * 9/5) + 32, celsius_temps)\n",
    "print(list(fahrenheit_temps))  # Output: [32.0, 50.0, 68.0, 86.0, 104.0]"
   ]
  },
  {
   "cell_type": "code",
   "execution_count": null,
   "id": "e3596594-28e3-4e09-9482-16bf4445de41",
   "metadata": {},
   "outputs": [],
   "source": [
    "#8. Round each element of a list of floating-point numbers using map():\n",
    "floats = [1.2, 2.7, 3.5, 4.9]\n",
    "rounded_numbers = map(round, floats)\n",
    "print(list(rounded_numbers))  # Output: [1, 3, 4, 5]"
   ]
  },
  {
   "cell_type": "code",
   "execution_count": null,
   "id": "643cad91-5f6c-449d-9e41-977c3ae33453",
   "metadata": {},
   "outputs": [],
   "source": [
    "#### FILTERS"
   ]
  },
  {
   "cell_type": "code",
   "execution_count": null,
   "id": "09fec403-d1a4-468f-b5b5-50339a732647",
   "metadata": {},
   "outputs": [],
   "source": [
    "#1. Purpose of the filter() function in Python:\n",
    "#The filter() function is used to filter elements from an iterable (e.g., list, tuple) based on a condition. It applies a function to each element and returns an iterator containing only the elements for which the function returns True.\n",
    "# Define a function to check if a number is even\n",
    "def is_even(x):\n",
    "    return x % 2 == 0\n",
    "\n",
    "# Filter even numbers from a list\n",
    "numbers = [1, 2, 3, 4, 5, 6]\n",
    "even_numbers = filter(is_even, numbers)\n",
    "\n",
    "# Convert the result to a list\n",
    "print(list(even_numbers))  # Output: [2, 4, 6]"
   ]
  },
  {
   "cell_type": "code",
   "execution_count": null,
   "id": "67820be9-6c03-4004-88f8-54880df54fb9",
   "metadata": {},
   "outputs": [],
   "source": [
    "#2. Select even numbers from a list using filter():\n",
    "numbers = [1, 2, 3, 4, 5, 6]\n",
    "even_numbers = filter(lambda x: x % 2 == 0, numbers)\n",
    "print(list(even_numbers))  # Output: [2, 4, 6]"
   ]
  },
  {
   "cell_type": "code",
   "execution_count": null,
   "id": "3608e433-76c4-46c3-8224-1fe2eddb01e7",
   "metadata": {},
   "outputs": [],
   "source": [
    "#3. Select names that start with a specific letter using filter():\n",
    "numbers = [1, 2, 3, 4, 5, 6]\n",
    "even_numbers = filter(lambda x: x % 2 == 0, numbers)\n",
    "print(list(even_numbers))  # Output: [2, 4, 6]"
   ]
  },
  {
   "cell_type": "code",
   "execution_count": null,
   "id": "89cf57a7-9a5b-4d6c-a27a-4d13c450e053",
   "metadata": {},
   "outputs": [],
   "source": [
    "#4. Select prime numbers from a list using filter():\n",
    "def is_prime(n):\n",
    "    if n < 2:\n",
    "        return False\n",
    "    for i in range(2, int(n**0.5) + 1):\n",
    "        if n % i == 0:\n",
    "            return False\n",
    "    return True\n",
    "\n",
    "numbers = [2, 3, 4, 5, 6, 7, 8, 9, 10]\n",
    "prime_numbers = filter(is_prime, numbers)\n",
    "print(list(prime_numbers))  # Output: [2, 3, 5, 7]"
   ]
  },
  {
   "cell_type": "code",
   "execution_count": null,
   "id": "a018beb2-3ac6-4f06-b59e-0a82f2be2e55",
   "metadata": {},
   "outputs": [],
   "source": [
    "#5. Remove None values from a list using filter():\n",
    "data = [1, None, \"Hello\", None, 42, None]\n",
    "filtered_data = filter(lambda x: x is not None, data)\n",
    "print(list(filtered_data))  # Output: [1, 'Hello', 42]"
   ]
  },
  {
   "cell_type": "code",
   "execution_count": null,
   "id": "f677579e-a107-486e-b742-789b68b23737",
   "metadata": {},
   "outputs": [],
   "source": [
    "#6. Select words longer than a certain length using filter():\n",
    "words = [\"apple\", \"banana\", \"cherry\", \"date\", \"elderberry\"]\n",
    "long_words = filter(lambda word: len(word) > 5, words)\n",
    "print(list(long_words))  # Output: ['banana', 'cherry', 'elderberry']"
   ]
  },
  {
   "cell_type": "code",
   "execution_count": null,
   "id": "63d17493-d206-4822-998f-5652749bb458",
   "metadata": {},
   "outputs": [],
   "source": [
    "#7. Select elements greater than a specified threshold using filter():\n",
    "values = [10, 20, 30, 40, 50]\n",
    "threshold = 25\n",
    "filtered_values = filter(lambda x: x > threshold, values)\n",
    "print(list(filtered_values))  # Output: [30, 40, 50]"
   ]
  },
  {
   "cell_type": "code",
   "execution_count": null,
   "id": "f7d37bb9-ea94-4399-9fef-909c625b2bd2",
   "metadata": {},
   "outputs": [],
   "source": [
    "##### RECURSION"
   ]
  },
  {
   "cell_type": "code",
   "execution_count": null,
   "id": "3b682051-10ce-4f58-86ec-59bb04d2846a",
   "metadata": {},
   "outputs": [],
   "source": [
    "#1. Concept of recursion in Python:\n",
    "#Recursion is a programming technique where a function calls itself to solve a problem by breaking it down into smaller, similar subproblems.Difference from iteration:\n",
    "\n",
    "#Recursion: Uses function calls and relies on the call stack. Each recursive call creates a new stack frame.\n",
    "\n",
    "#Iteration: Uses loops (e.g., for, while) and does not rely on the call stack. It is often more memory-efficient."
   ]
  },
  {
   "cell_type": "code",
   "execution_count": null,
   "id": "689b929a-1e88-470b-afc3-d98a493209db",
   "metadata": {},
   "outputs": [],
   "source": [
    "#2. Calculate the factorial of a number using recursion:\n",
    "def factorial(n):\n",
    "    if n == 0 or n == 1:  # Base case\n",
    "        return 1\n",
    "    else:\n",
    "        return n * factorial(n - 1)  # Recursive case\n",
    "\n",
    "print(factorial(5))  # Output: 120"
   ]
  },
  {
   "cell_type": "code",
   "execution_count": null,
   "id": "1380de30-d1bc-420e-b85c-c18c487976ac",
   "metadata": {},
   "outputs": [],
   "source": [
    "#3. Find the nth Fibonacci number using recursion:\n",
    "def fibonacci(n):\n",
    "    if n <= 1:  # Base case\n",
    "        return n\n",
    "    else:\n",
    "        return fibonacci(n - 1) + fibonacci(n - 2)  # Recursive case\n",
    "\n",
    "print(fibonacci(6))  # Output: 8"
   ]
  },
  {
   "cell_type": "code",
   "execution_count": null,
   "id": "01e0b654-7e4b-4302-bed3-0bc8ce60a7c5",
   "metadata": {},
   "outputs": [],
   "source": [
    "#4. Calculate the sum of all elements in a list using recursion:\n",
    "def list_sum(lst):\n",
    "    if not lst:  # Base case: empty list\n",
    "        return 0\n",
    "    else:\n",
    "        return lst[0] + list_sum(lst[1:])  # Recursive case\n",
    "\n",
    "print(list_sum([1, 2, 3, 4, 5]))  # Output: 15"
   ]
  },
  {
   "cell_type": "code",
   "execution_count": null,
   "id": "4056d371-4865-4282-9e7e-36779108d15c",
   "metadata": {},
   "outputs": [],
   "source": [
    "#5. Prevent a recursive function from running indefinitely:\n",
    "#Ensure there is a base case that stops the recursion.\n",
    "#Make sure the recursive calls progress toward the base case.\n",
    "def countdown(n):\n",
    "    if n <= 0:  # Base case\n",
    "        print(\"Done!\")\n",
    "    else:\n",
    "        print(n)\n",
    "        countdown(n - 1)  # Progress toward base case\n",
    "\n",
    "countdown(5)"
   ]
  },
  {
   "cell_type": "code",
   "execution_count": null,
   "id": "e224b280-997d-4048-a757-192a7c0e45de",
   "metadata": {},
   "outputs": [],
   "source": [
    "#6. Find the GCD of two numbers using recursion and the Euclidean algorithm:\n",
    "def gcd(a, b):\n",
    "    if b == 0:  # Base case\n",
    "        return a\n",
    "    else:\n",
    "        return gcd(b, a % b)  # Recursive case\n",
    "\n",
    "print(gcd(48, 18))  # Output: 6"
   ]
  },
  {
   "cell_type": "code",
   "execution_count": null,
   "id": "f22d0a6d-9c60-442f-9f44-00b6bd2a9e42",
   "metadata": {},
   "outputs": [],
   "source": [
    "#7. Reverse a string using recursion:\n",
    "def reverse_string(s):\n",
    "    if len(s) <= 1:  # Base case\n",
    "        return s\n",
    "    else:\n",
    "        return reverse_string(s[1:]) + s[0]  # Recursive case\n",
    "\n",
    "print(reverse_string(\"hello\"))  # Output: \"olleh\""
   ]
  },
  {
   "cell_type": "code",
   "execution_count": null,
   "id": "4967c998-930c-4f55-8471-9e1e9d7edfdc",
   "metadata": {},
   "outputs": [],
   "source": [
    "#8. Calculate the power of a number (x^n) using recursion:\n",
    "def power(x, n):\n",
    "    if n == 0:  # Base case\n",
    "        return 1\n",
    "    else:\n",
    "        return x * power(x, n - 1)  # Recursive case\n",
    "\n",
    "print(power(2, 3))  # Output: 8"
   ]
  },
  {
   "cell_type": "code",
   "execution_count": null,
   "id": "1597cd55-f7b0-4014-9374-5e2d15d27669",
   "metadata": {},
   "outputs": [],
   "source": [
    "#9. Find all permutations of a given string using recursion:\n",
    "def permutations(s):\n",
    "    if len(s) <= 1:  # Base case\n",
    "        return [s]\n",
    "    else:\n",
    "        perms = []\n",
    "        for i, char in enumerate(s):\n",
    "            for perm in permutations(s[:i] + s[i+1:]):  # Recursive case\n",
    "                perms.append(char + perm)\n",
    "        return perms\n",
    "\n",
    "print(permutations(\"abc\"))  # Output: ['abc', 'acb', 'bac', 'bca', 'cab', 'cba']"
   ]
  },
  {
   "cell_type": "code",
   "execution_count": null,
   "id": "0ce614a7-9875-4a25-81d2-9472170f6e5f",
   "metadata": {},
   "outputs": [],
   "source": [
    "#10. Check if a string is a palindrome using recursion:\n",
    "def is_palindrome(s):\n",
    "    if len(s) <= 1:  # Base case\n",
    "        return True\n",
    "    else:\n",
    "        if s[0] != s[-1]:  # Check first and last characters\n",
    "            return False\n",
    "        else:\n",
    "            return is_palindrome(s[1:-1])  # Recursive case\n",
    "\n",
    "print(is_palindrome(\"madam\"))  # Output: True\n",
    "print(is_palindrome(\"hello\"))  # Output: False"
   ]
  },
  {
   "cell_type": "code",
   "execution_count": null,
   "id": "3e430b15-7072-47e8-868b-c984f76a5ad6",
   "metadata": {},
   "outputs": [],
   "source": [
    "#11. Generate all possible combinations of a list of elements using recursion:\n",
    "def combinations(lst, k):\n",
    "    if k == 0:  # Base case\n",
    "        return [[]]\n",
    "    if not lst:  # Base case\n",
    "        return []\n",
    "    # Recursive case: include or exclude the first element\n",
    "    return combinations(lst[1:], k) + [[lst[0]] + c for c in combinations(lst[1:], k - 1)]\n",
    "\n",
    "print(combinations([1, 2, 3], 2))  # Output: [[2, 3], [1, 3], [1, 2]]"
   ]
  },
  {
   "cell_type": "code",
   "execution_count": null,
   "id": "818a0d7b-9229-489b-8425-e85b8b6e9db2",
   "metadata": {},
   "outputs": [],
   "source": [
    "##### Basic of functions"
   ]
  },
  {
   "cell_type": "code",
   "execution_count": null,
   "id": "6005cb73-6d7c-402f-a30c-3b7e25f5e2b3",
   "metadata": {},
   "outputs": [],
   "source": [
    "#1. What is a function in Python, and why is it used?\n",
    "#A function is a reusable block of code that performs a specific task.\n",
    "\n",
    "#It is used to:\n",
    "#Avoid code repetition (DRY principle: Don’t Repeat Yourself).\n",
    "#Improve code readability and maintainability.\n",
    "#Modularize code into smaller, manageable pieces.\n",
    "#Enable code reuse across different parts of a program."
   ]
  },
  {
   "cell_type": "code",
   "execution_count": null,
   "id": "1dc3471a-6d22-4837-8073-a98d949164fc",
   "metadata": {},
   "outputs": [],
   "source": [
    "#2. How do you define a function in Python? Provide an example.\n",
    "#A function is defined using the def keyword, followed by the function name, parameters (in parentheses), and a colon. The function body is indented.\n",
    "def greet(name):\n",
    "    print(f\"Hello, {name}!\")"
   ]
  },
  {
   "cell_type": "code",
   "execution_count": null,
   "id": "413d9d5a-930c-43da-9198-24d38176c77c",
   "metadata": {},
   "outputs": [],
   "source": [
    "#3. Difference between a function definition and a function call:\n",
    "def add(a, b):\n",
    "    return a + b\n",
    "#Function call: Executes the function by passing arguments (if any).\n",
    "result = add(3, 5)  # Calls the function\n",
    "print(result)       # Output: 8"
   ]
  },
  {
   "cell_type": "code",
   "execution_count": null,
   "id": "547ca7a3-eebc-4c20-9878-f3c6bcb325b6",
   "metadata": {},
   "outputs": [],
   "source": [
    "#4. Python program to define and call a function to calculate the sum of two numbers:\n",
    "def add(a, b):\n",
    "    return a + b\n",
    "\n",
    "# Call the function\n",
    "result = add(10, 20)\n",
    "print(\"Sum:\", result)  # Output: Sum: 30"
   ]
  },
  {
   "cell_type": "code",
   "execution_count": null,
   "id": "2892ff68-f01a-457a-afd7-acbd15841a09",
   "metadata": {},
   "outputs": [],
   "source": [
    "#5. What is a function signature, and what information does it typically include?\n",
    "\n",
    "#A function signature defines the structure of a function, including:\n",
    "\n",
    "#The function name.\n",
    "#The number and types of parameters (arguments).\n",
    "#The return type (optional in Python, as it is dynamically typed).\n",
    "\n",
    "#Example:\n",
    "def multiply(a: int, b: int) -> int:\n",
    "    return a * b"
   ]
  },
  {
   "cell_type": "code",
   "execution_count": null,
   "id": "9943cd36-01f5-4980-92a9-e093e00913a5",
   "metadata": {},
   "outputs": [],
   "source": [
    "#6. Create a Python function that takes two arguments and returns their product:\n",
    "def multiply(a, b):\n",
    "    return a * b\n",
    "\n",
    "# Call the function\n",
    "result = multiply(4, 5)\n",
    "print(\"Product:\", result)  # Output: Product: 20"
   ]
  },
  {
   "cell_type": "code",
   "execution_count": null,
   "id": "c5cea37a-dbd9-43ae-a0ed-6e20ff691b31",
   "metadata": {},
   "outputs": [],
   "source": [
    "###### Function Parameters and Arguments:\n"
   ]
  },
  {
   "cell_type": "code",
   "execution_count": null,
   "id": "02fedc1c-d672-4e0d-8698-0dbadd686883",
   "metadata": {},
   "outputs": [],
   "source": [
    "#1. Concepts of formal parameters and actual arguments:\n",
    "#Formal parameters: Variables listed in the function definition. They act as placeholders for the values that will be passed to the function.\n",
    "\n",
    "#Actual arguments: Values passed to the function when it is called. These values are assigned to the formal parameters.\n",
    "def add(a, b):  # a and b are formal parameters\n",
    "    return a + b\n",
    "\n",
    "result = add(3, 5)  # 3 and 5 are actual arguments\n",
    "print(result)  # Output: 8"
   ]
  },
  {
   "cell_type": "code",
   "execution_count": null,
   "id": "70cd93dd-a350-4757-8792-0036ac290134",
   "metadata": {},
   "outputs": [],
   "source": [
    "#2. Define a function with default argument values:\n",
    "#Default arguments allow you to specify default values for parameters. If the caller does not provide a value, the default is used.\n",
    "def greet(name=\"Guest\"):\n",
    "    print(f\"Hello, {name}!\")\n",
    "\n",
    "greet()          # Output: Hello, Guest! (uses default value)\n",
    "greet(\"Alice\")   # Output: Hello, Alice! (overrides default value)"
   ]
  },
  {
   "cell_type": "code",
   "execution_count": null,
   "id": "85c9cb39-1995-4a32-a69b-b3577d0d67e6",
   "metadata": {},
   "outputs": [],
   "source": [
    "#3. Use keyword arguments in Python function calls:\n",
    "Keyword arguments allow you to pass arguments by explicitly specifying the parameter names. This makes the function call more readable and allows arguments to be passed in any order.\n",
    "\n",
    "#Example:\n",
    "def describe_person(name, age):\n",
    "    print(f\"{name} is {age} years old.\")\n",
    "\n",
    "# Using keyword arguments\n",
    "describe_person(age=25, name=\"Alice\")  # Output: Alice is 25 years old."
   ]
  },
  {
   "cell_type": "code",
   "execution_count": null,
   "id": "b6a40a9d-ae5f-4258-9fcb-7be23409ee17",
   "metadata": {},
   "outputs": [],
   "source": [
    "#4. Create a function that accepts a variable number of arguments and calculates their sum:\n",
    "#Use *args to accept a variable number of positional arguments.\n",
    "def sum_all(*args):\n",
    "    return sum(args)\n",
    "\n",
    "result = sum_all(1, 2, 3, 4, 5)\n",
    "print(\"Sum:\", result)  # Output: Sum: 15"
   ]
  },
  {
   "cell_type": "code",
   "execution_count": null,
   "id": "81000bbd-14c0-4dbd-8547-0a2266531099",
   "metadata": {},
   "outputs": [],
   "source": [
    "#5. Purpose of *args and **kwargs in function parameter lists:\n",
    "# *args: Used to pass a variable number of positional arguments to a function. It collects extra arguments as a tuple.\n",
    "\n",
    "# **kwargs: Used to pass a variable number of keyword arguments to a function. It collects extra arguments as a dictionary.\n",
    "\n",
    "#Example:\n",
    "def example_function(*args, **kwargs):\n",
    "    print(\"Positional arguments (*args):\", args)\n",
    "    print(\"Keyword arguments (**kwargs):\", kwargs)\n",
    "\n",
    "example_function(1, 2, 3, name=\"Alice\", age=25)\n",
    "# Output:\n",
    "# Positional arguments (*args): (1, 2, 3)\n",
    "# Keyword arguments (**kwargs): {'name': 'Alice', 'age': 25}"
   ]
  },
  {
   "cell_type": "code",
   "execution_count": null,
   "id": "cf7c3e8a-211e-42ca-9f6a-fd80b80265ac",
   "metadata": {},
   "outputs": [],
   "source": [
    "####### Return Values and Scoping:"
   ]
  },
  {
   "cell_type": "code",
   "execution_count": null,
   "id": "e12c68d6-9868-4b15-9fc6-b89e59f672bc",
   "metadata": {},
   "outputs": [],
   "source": [
    "#1. Role of the return Statement in Python Functions\n",
    "#The return statement in Python functions is used to exit the function and optionally pass back an expression (or value) to the caller. If no expression is provided, return will exit the function and return None.\n",
    "\n",
    "#Example:\n",
    "def add(a, b):\n",
    "    return a + b\n",
    "\n",
    "result = add(3, 4)\n",
    "print(result)  # Output: 7\n",
    "#In this example, the return statement sends the result of a + b back to the caller, which is then stored in the variable result."
   ]
  },
  {
   "cell_type": "code",
   "execution_count": null,
   "id": "35f97ee3-afd7-4aa7-8bea-6e7fe80c9bdf",
   "metadata": {},
   "outputs": [],
   "source": [
    "#2. Concept of Variable Scope in Python\n",
    "#Variable scope refers to the region of a program where a variable is accessible. In Python, there are two main types of variable scope:\n",
    "\n",
    "#Local Scope: Variables defined inside a function are local to that function. They cannot be accessed outside the function.\n",
    "\n",
    "#Global Scope: Variables defined outside all functions are global and can be accessed from anywhere in the code.\n",
    "x = 10  # Global variable\n",
    "\n",
    "def my_function():\n",
    "    y = 5  # Local variable\n",
    "    print(x)  # Accessing global variable\n",
    "    print(y)  # Accessing local variable\n",
    "\n",
    "my_function()\n",
    "print(x)  # Accessing global variable\n",
    "# print(y)  # This would raise an error because y is local to my_function"
   ]
  },
  {
   "cell_type": "code",
   "execution_count": null,
   "id": "7a78f064-1009-4c63-bb09-165d9282a851",
   "metadata": {},
   "outputs": [],
   "source": [
    "#3. Python Program Demonstrating Global Variables within Functions\n",
    "#To modify a global variable inside a function, you need to use the global keyword.\n",
    "x = 10  # Global variable\n",
    "\n",
    "def modify_global():\n",
    "    global x\n",
    "    x = 20  # Modifying the global variable\n",
    "\n",
    "print(\"Before function call:\", x)  # Output: 10\n",
    "modify_global()\n",
    "print(\"After function call:\", x)  # Output: 20"
   ]
  },
  {
   "cell_type": "code",
   "execution_count": null,
   "id": "1ed010f8-5d82-4f2a-b24d-eedec0d63cce",
   "metadata": {},
   "outputs": [],
   "source": [
    "#4. Python Function to Calculate the Factorial of a Number\n",
    "#The factorial of a number n is the product of all positive integers less than or equal to n.\n",
    "def factorial(n):\n",
    "    if n == 0 or n == 1:\n",
    "        return 1\n",
    "    else:\n",
    "        return n * factorial(n - 1)\n",
    "\n",
    "result = factorial(5)\n",
    "print(result)  # Output: 120"
   ]
  },
  {
   "cell_type": "code",
   "execution_count": null,
   "id": "e109efaf-e35c-4760-8797-db665c7fd947",
   "metadata": {},
   "outputs": [],
   "source": [
    "#5. Accessing Variables Defined Outside a Function from Within the Function\n",
    "x = 10  # Global variable\n",
    "\n",
    "def access_global():\n",
    "    print(\"Accessing global variable:\", x)  # Accessing global variable\n",
    "\n",
    "def modify_global():\n",
    "    global x\n",
    "    x = 20  # Modifying global variable\n",
    "\n",
    "access_global()  # Output: Accessing global variable: 10\n",
    "modify_global()\n",
    "access_global()  # Output: Accessing global variable: 20"
   ]
  },
  {
   "cell_type": "code",
   "execution_count": null,
   "id": "0bd34f1e-359c-4c85-aaab-d04a80ff8187",
   "metadata": {},
   "outputs": [],
   "source": [
    "####### Lambda Functions and Higher-Order Functions:\n"
   ]
  },
  {
   "cell_type": "code",
   "execution_count": null,
   "id": "8175395b-59f7-4c06-a041-e9a85de5dead",
   "metadata": {},
   "outputs": [],
   "source": [
    "#1. Lambda Functions in Python\n",
    "#Lambda functions in Python are small, anonymous functions defined using the lambda keyword. They can have any number of arguments but only one expression. Lambda functions are typically used for short, simple operations that are not reused elsewhere in the code\n",
    "lambda arguments: expression\n",
    "# FOR EXAMPLE\n",
    "add = lambda a, b: a + b\n",
    "print(add(3, 4))  # Output: 7\n",
    "#Lambda functions are often used in conjunction with higher-order functions like map(), filter(), and sorted()."
   ]
  },
  {
   "cell_type": "code",
   "execution_count": null,
   "id": "b56206a9-9a7e-433f-9d1e-e0b520325de4",
   "metadata": {},
   "outputs": [],
   "source": [
    "#2. Python Program to Sort a List of Tuples Based on the Second Element\n",
    "#You can use a lambda function as the key argument in the sorted() function to sort a list of tuples based on the second element.\n",
    "# List of tuples\n",
    "data = [(1, 3), (4, 1), (2, 2), (5, 4)]\n",
    "\n",
    "# Sort based on the second element of each tuple\n",
    "sorted_data = sorted(data, key=lambda x: x[1])\n",
    "\n",
    "print(sorted_data)  # Output: [(4, 1), (2, 2), (1, 3), (5, 4)]"
   ]
  },
  {
   "cell_type": "code",
   "execution_count": null,
   "id": "b1585428-ce1f-418f-bf08-b63f2c5eaf3e",
   "metadata": {},
   "outputs": [],
   "source": [
    "#3. Concept of Higher-Order Functions in Python\n",
    "#Higher-order functions are functions that take one or more functions as arguments or return a function as a result. They are a key feature of functional programming and allow for more abstract and reusable code.\n",
    "# Higher-order function that applies a function to each element of a list\n",
    "def apply_function(func, lst):\n",
    "    return [func(x) for x in lst]\n",
    "#Higher-order functions are functions that take other functions as arguments or return functions\n",
    "# Example usage\n",
    "numbers = [1, 2, 3, 4]\n",
    "squared_numbers = apply_function(lambda x: x**2, numbers)\n",
    "\n",
    "print(squared_numbers)  # Output: [1, 4, 9, 16]\n",
    "#Here apply_function is a higher-order function because it takes a function (func) as an argument and applies it to each element of the list (lst)."
   ]
  },
  {
   "cell_type": "code",
   "execution_count": null,
   "id": "9d4b90f4-772d-4deb-8f90-b8602594e8b0",
   "metadata": {},
   "outputs": [],
   "source": [
    "#4. Python Function That Applies a Function to Each Element in a List\n",
    "Here’s a function that takes a list of numbers and a function as arguments, and applies the function to each element in the list.\n",
    "def apply_to_each(func, lst):\n",
    "    \"\"\"\n",
    "    Applies the given function to each element in the list.\n",
    "    \n",
    "    :param func: A function to apply to each element.\n",
    "    :param lst: A list of elements.\n",
    "    :return: A new list with the function applied to each element.\n",
    "    \"\"\"\n",
    "    return [func(x) for x in lst]\n",
    "\n",
    "# Example usage\n",
    "numbers = [1, 2, 3, 4]\n",
    "\n",
    "# Define a function to square a number\n",
    "square = lambda x: x**2\n",
    "\n",
    "# Apply the square function to each element in the list\n",
    "result = apply_to_each(square, numbers)\n",
    "\n",
    "print(result)  # Output: [1, 4, 9, 16]\n",
    "#The apply_to_each function takes a function (func) and a list (lst) as arguments.\n",
    "\n",
    "#It uses a list comprehension to apply the function to each element in the list.\n",
    "#The result is a new list with the function applied to each element.\n",
    "\n"
   ]
  },
  {
   "cell_type": "code",
   "execution_count": null,
   "id": "83654e95-159c-49c9-bfda-36a1f2656610",
   "metadata": {},
   "outputs": [],
   "source": [
    "####### Built-in Functions:"
   ]
  },
  {
   "cell_type": "code",
   "execution_count": null,
   "id": "462e8888-cb1f-48fa-b29f-2908b6c212c1",
   "metadata": {},
   "outputs": [],
   "source": [
    "#1.Role of Built-in Functions like len(), max(), and min() in Python\n",
    "#Python provides several built-in functions that are commonly used for various operations:\n",
    "\n",
    "#len(): Returns the length (number of items) of an object, such as a list, string, tuple, or dictionary.\n",
    "my_list = [1, 2, 3, 4]\n",
    "print(len(my_list))  # Output: 4\n",
    "\n",
    "#max(): Returns the largest item in an iterable or the largest of two or more arguments.\n",
    "numbers = [10, 20, 30, 40]\n",
    "print(max(numbers))  # Output: 40\n",
    "\n",
    "#min(): Returns the smallest item in an iterable or the smallest of two or more arguments.\n",
    "numbers = [10, 20, 30, 40]\n",
    "print(min(numbers))  # Output: 10\n",
    "#These functions are highly optimized and make it easy to perform common tasks without writing additional code."
   ]
  },
  {
   "cell_type": "code",
   "execution_count": null,
   "id": "474559a3-27f6-42bb-bc19-150c857ecc75",
   "metadata": {},
   "outputs": [],
   "source": [
    "#2. Python Program Using map() to Apply a Function to Each Element of a List\n",
    "#The map() function applies a given function to each item of an iterable (e.g., list, tuple) and returns a map object (an iterator).\n",
    "# Define a function to square a number\n",
    "def square(x):\n",
    "    return x**2\n",
    "\n",
    "# List of numbers\n",
    "numbers = [1, 2, 3, 4]\n",
    "\n",
    "# Use map() to apply the square function to each element\n",
    "squared_numbers = map(square, numbers)\n",
    "\n",
    "# Convert the map object to a list\n",
    "squared_numbers = list(squared_numbers)\n",
    "\n",
    "print(squared_numbers)  # Output: [1, 4, 9, 16]\n",
    "#You can also use a lambda function with map() for concise code:\n",
    "numbers = [1, 2, 3, 4]\n",
    "squared_numbers = list(map(lambda x: x**2, numbers))\n",
    "print(squared_numbers)  # Output: [1, 4, 9, 16]"
   ]
  },
  {
   "cell_type": "code",
   "execution_count": null,
   "id": "f03f6763-8252-4533-a201-e64b9b144a10",
   "metadata": {},
   "outputs": [],
   "source": [
    "#3. How the filter() Function Works and When to Use It\n",
    "#The filter() function is used to filter elements from an iterable based on a condition. It takes two arguments:\n",
    "\n",
    "#A function that returns True or False (a predicate).\n",
    "#An iterable (e.g., list, tuple).\n",
    "#It returns an iterator containing only the elements for which the function returns True.\n",
    "# Define a function to check if a number is even\n",
    "def is_even(x):\n",
    "    return x % 2 == 0\n",
    "\n",
    "# List of numbers\n",
    "numbers = [1, 2, 3, 4, 5, 6]\n",
    "\n",
    "# Use filter() to keep only even numbers\n",
    "even_numbers = filter(is_even, numbers)\n",
    "\n",
    "# Convert the filter object to a list\n",
    "even_numbers = list(even_numbers)\n",
    "\n",
    "print(even_numbers)  # Output: [2, 4, 6] \n",
    "    #OR \n",
    "numbers = [1, 2, 3, 4, 5, 6]\n",
    "even_numbers = list(filter(lambda x: x % 2 == 0, numbers))\n",
    "print(even_numbers)  # Output: [2, 4, 6]\n",
    "#When to Use filter(): #When you want to select elements from an iterable that satisfy a specific condition."
   ]
  },
  {
   "cell_type": "code",
   "execution_count": null,
   "id": "1544a043-f1a5-4042-9465-bd9b1ccf89d3",
   "metadata": {},
   "outputs": [],
   "source": [
    "#4. Python Program Using reduce() to Find the Product of All Elements in a List\n",
    "#The reduce() function is part of the functools module. It applies a function cumulatively to the items of an iterable, from left to right, so as to reduce the iterable to a single value.\n",
    "from functools import reduce\n",
    "\n",
    "# Define a function to multiply two numbers\n",
    "def multiply(a, b):\n",
    "    return a * b\n",
    "\n",
    "# List of numbers\n",
    "numbers = [1, 2, 3, 4]\n",
    "\n",
    "# Use reduce() to find the product of all elements\n",
    "product = reduce(multiply, numbers)\n",
    "\n",
    "print(product)  # Output: 24\n",
    "        #OR \n",
    "from functools import reduce\n",
    "\n",
    "numbers = [1, 2, 3, 4]\n",
    "product = reduce(lambda a, b: a * b, numbers)\n",
    "print(product)  # Output: 24\n",
    "#How reduce() Works:\n",
    "\n",
    "#It takes the first two elements of the iterable and applies the function to them.\n",
    "#It then takes the result and the next element, applies the function, and repeats this process until all elements are processed.\n",
    "#The final result is a single value."
   ]
  },
  {
   "cell_type": "code",
   "execution_count": null,
   "id": "ac6f94ad-b2a0-4b03-8d07-7b6a04affde4",
   "metadata": {},
   "outputs": [],
   "source": [
    "############ Function Documentation and Best Practices:\n"
   ]
  },
  {
   "cell_type": "code",
   "execution_count": null,
   "id": "cbac7774-8ebc-4b2c-9c1e-cf8d7c5758cd",
   "metadata": {},
   "outputs": [],
   "source": [
    "#1. Purpose of Docstrings in Python Functions\n",
    "#Docstrings (documentation strings) are used to describe the purpose, behavior, and usage of a function, module, class, or method. They are enclosed in triple quotes (\"\"\") and are placed immediately after the definition of the function, class, or module.\n",
    "\n",
    "#Purpose:\n",
    "#Provide clear and concise documentation for code.\n",
    "#Help other developers (or your future self) understand the purpose and usage of the code.\n",
    "#It can be accessed programmatically using the __doc__ attribute or tools like help().\n",
    "def add(a, b):\n",
    "    \"\"\"\n",
    "    Adds two numbers and returns the result.\n",
    "\n",
    "    Parameters:\n",
    "    a (int or float): The first number.\n",
    "    b (int or float): The second number.\n",
    "\n",
    "    Returns:\n",
    "    int or float: The sum of the two numbers.\n",
    "    \"\"\"\n",
    "    return a + b\n",
    "\n",
    "# Access the docstring\n",
    "print(add.__doc__)\n",
    "\n",
    "# Output:\n",
    "# Adds two numbers and returns the result.\n",
    "#\n",
    "# Parameters:\n",
    "# a (int or float): The first number.\n",
    "# b (int or float): The second number.\n",
    "#\n",
    "# Returns:\n",
    "# int or float: The sum of the two numbers.\n",
    "\n",
    "#How to Write Docstrings:\n",
    "#1.Use triple quotes (\"\"\") to enclose the docstring.\n",
    "\n",
    "#2.Place the docstring immediately after the function, class, or module definition.\n",
    "\n",
    "#3.Follow a consistent format. A common format is the Google style or NumPy style docstring.\n",
    "\n",
    "#4.Include:\n",
    "\n",
    "#A brief description of the function.\n",
    "#Parameters (if any) and their types.\n",
    "#Return value (if any) and its type.\n",
    "#Any exceptions that may be raised."
   ]
  },
  {
   "cell_type": "code",
   "execution_count": null,
   "id": "bfcf5a62-0096-43d1-90b2-a2e86de700bb",
   "metadata": {},
   "outputs": [],
   "source": [
    "#2. Best Practices for Naming Functions and Variables in Python\n",
    "#Naming conventions and guidelines are essential for writing clean, readable, and maintainable code. Python follows the PEP 8 style guide, which provides recommendations for naming.\n",
    "#Naming Conventions:\n",
    "#1.Functions and Variables:\n",
    "#Use lowercase letters with words separated by underscores (snake_case).\n",
    "#Example: calculate_sum, user_name.\n",
    "\n",
    "#2.Constants:\n",
    "#Use uppercase letters with words separated by underscores (UPPER_CASE).\n",
    "#Example: MAX_VALUE, PI.\n",
    "\n",
    "#3.Classes:\n",
    "#Use CamelCase (capitalize the first letter of each word without underscores).\n",
    "#Example: ClassName, EmployeeDetails.\n",
    "\n",
    "#4.Modules and Packages:\n",
    "#Use lowercase letters and avoid underscores if possible.\n",
    "#Example: mymodule, package.\n",
    "\n",
    "#5.Private Variables and Functions:\n",
    "#Prefix with a single underscore (_) to indicate that they are intended for internal use.\n",
    "#Example: _private_variable, _helper_function().\n",
    "\n",
    "#6.Avoid Single-Letter Names:\n",
    "#Use descriptive names instead of single letters (except for loop counters like i, j, etc.).\n",
    "#Example: Use index instead of i, name instead of n.\n",
    "\n",
    "#7.Avoid Reserved Keywords:\n",
    "#Do not use Python keywords like class, def, if, etc., as variable or function names.\n",
    "\n",
    "#Guidelines:\n",
    "#1.Be Descriptive: Choose names that clearly describe the purpose of the variable or function.\n",
    "#Example: Use calculate_area() instead of calc().\n",
    "\n",
    "#2.Keep It Short but Meaningful: Avoid overly long names, but ensure they are descriptive.\n",
    "#Example: Use total_price instead of price_of_all_items_in_the_cart.\n",
    "\n",
    "#3.Be Consistent: Follow the same naming convention throughout your codebase.\n",
    "\n",
    "#4.Avoid Ambiguity: Ensure that names are not ambiguous or misleading.\n",
    "#Example: Use user_list instead of list to avoid confusion with the built-in list type.\n",
    "\n",
    "# Good naming practices\n",
    "def calculate_area(radius):\n",
    "    \"\"\"\n",
    "    Calculates the area of a circle.\n",
    "\n",
    "    Parameters:\n",
    "    radius (float): The radius of the circle.\n",
    "\n",
    "    Returns:\n",
    "    float: The area of the circle.\n",
    "    \"\"\"\n",
    "    return 3.14159 * radius**2\n",
    "\n",
    "# Constants\n",
    "MAX_USERS = 100\n",
    "\n",
    "# Class\n",
    "class Circle:\n",
    "    def __init__(self, radius):\n",
    "        self.radius = radius\n",
    "\n",
    "    def area(self):\n",
    "        return calculate_area(self.radius)\n",
    "\n",
    "# Private variable\n",
    "_internal_counter = 0"
   ]
  }
 ],
 "metadata": {
  "kernelspec": {
   "display_name": "Python 3 (ipykernel)",
   "language": "python",
   "name": "python3"
  },
  "language_info": {
   "codemirror_mode": {
    "name": "ipython",
    "version": 3
   },
   "file_extension": ".py",
   "mimetype": "text/x-python",
   "name": "python",
   "nbconvert_exporter": "python",
   "pygments_lexer": "ipython3",
   "version": "3.11.7"
  }
 },
 "nbformat": 4,
 "nbformat_minor": 5
}
